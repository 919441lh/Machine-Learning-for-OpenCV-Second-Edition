{
 "cells": [
  {
   "cell_type": "markdown",
   "metadata": {},
   "source": [
    "# Implementing a Multi-Layer Perceptron (MLP) in OpenCV\n",
    "\n",
    "In order to create nonlinear decision boundaries, we can combine multiple perceptrons to\n",
    "form a larger network. This is also known as a multilayer perceptron (MLP). MLPs usually\n",
    "consist of at least three layers, where the first layer has a node (or neuron) for every input\n",
    "feature of the dataset, and the last layer has a node for every class label. The layer in\n",
    "between is called the hidden layer."
   ]
  },
  {
   "cell_type": "markdown",
   "metadata": {},
   "source": [
    "## Loading and preprocessing the data\n",
    "\n",
    "Implementing an MLP in OpenCV uses the same syntax that we have seen at least a dozen\n",
    "times before. In order to see how an MLP compares to a single perceptron, we will operate\n",
    "on the same toy data as before:"
   ]
  },
  {
   "cell_type": "code",
   "execution_count": 1,
   "metadata": {},
   "outputs": [],
   "source": [
    "from sklearn.datasets.samples_generator import make_blobs\n",
    "X_raw, y_raw = make_blobs(n_samples=100, centers=2,\n",
    "                          cluster_std=5.2, random_state=42)"
   ]
  },
  {
   "cell_type": "markdown",
   "metadata": {},
   "source": [
    "## Preprocessing the data\n",
    "\n",
    "However, since we are working with OpenCV, this time, we want to make sure the input\n",
    "matrix is made up of 32-bit floating point numbers, otherwise the code will break:"
   ]
  },
  {
   "cell_type": "code",
   "execution_count": 2,
   "metadata": {},
   "outputs": [],
   "source": [
    "import numpy as np\n",
    "X = X_raw.astype(np.float32)"
   ]
  },
  {
   "cell_type": "markdown",
   "metadata": {},
   "source": [
    "Furthermore, we need to think back to [Chapter 4](04.00-Representing-Data-and-Engineering-Features.ipynb), *Representing Data and Engineering and Features*, and remember how to represent categorical variables. We need to find a way to\n",
    "represent target labels, not as integers but with a one-hot encoding. The easiest way to\n",
    "achieve this is by using scikit-learn's `preprocessing` module:"
   ]
  },
  {
   "cell_type": "code",
   "execution_count": 3,
   "metadata": {},
   "outputs": [],
   "source": [
    "from sklearn.preprocessing import OneHotEncoder\n",
    "enc = OneHotEncoder(sparse=False, dtype=np.float32,categories='auto')\n",
    "y = enc.fit_transform(y_raw.reshape(-1, 1))"
   ]
  },
  {
   "cell_type": "markdown",
   "metadata": {},
   "source": [
    "## Creating an MLP classifier in OpenCV\n",
    "\n",
    "The syntax to create an MLP in OpenCV is the same as for all the other classifiers:"
   ]
  },
  {
   "cell_type": "code",
   "execution_count": 4,
   "metadata": {},
   "outputs": [],
   "source": [
    "import cv2\n",
    "mlp = cv2.ml.ANN_MLP_create()"
   ]
  },
  {
   "cell_type": "markdown",
   "metadata": {},
   "source": [
    "However, now we need to specify how many layers we want in the network and how many\n",
    "neurons there are per layer. We do this with a list of integers, which specify the number of\n",
    "neurons in each layer. Since the data matrix `X` has two features, the first layer should also\n",
    "have two neurons in it (`n_input`). Since the output has two different values, the last layer\n",
    "should also have two neurons in it (`n_output`). In between these two layers, we can put as\n",
    "many hidden layers with as many neurons as we want. Let's choose a single hidden layer\n",
    "with an arbitrary number of eight neurons in it (`n_hidden`):"
   ]
  },
  {
   "cell_type": "code",
   "execution_count": 5,
   "metadata": {},
   "outputs": [],
   "source": [
    "n_input = 2\n",
    "n_hidden = 8\n",
    "n_output = 2\n",
    "mlp.setLayerSizes(np.array([n_input, n_hidden, n_output]))"
   ]
  },
  {
   "cell_type": "markdown",
   "metadata": {},
   "source": [
    "## Customizing the MLP classifier\n",
    "\n",
    "Before we move on to training the classifier, we can customize the MLP classifier via a\n",
    "number of optional settings:\n",
    "- `mlp.setActivationFunction`: This defines the activation function to be used for every neuron in the network\n",
    "- `mlp.setTrainMethod`: This defines a suitable training method\n",
    "- `mlp.setTermCriteria`: This sets the termination criteria of the training phase\n",
    "\n",
    "Whereas our home-brewed perceptron classifier used a linear activation function, OpenCV\n",
    "provides two additional options:\n",
    "- `cv2.ml.ANN_MLP_IDENTITY`: This is the linear activation function, $f(x) = x$.\n",
    "- `cv2.ml.ANN_MLP_SIGMOID_SYM`: This is the symmetrical sigmoid function (also known as hyperbolic tangent), $f(x) = \\beta (1 - \\exp(-\\alpha x)) / (1 + \\exp(-\\alpha x))$. Whereas $\\alpha$ controls the slope of the function, $\\beta$ defines the upper and lower bounds of the output.\n",
    "- `cv2.ml.ANN_GAUSSIAN`: This is the Gaussian function (also known as the bell curve), $f(x) = \\beta \\exp(-\\alpha x^2)$. Whereas $α$ controls the slope of the function, $\\beta$ defines the upper bound of the output."
   ]
  },
  {
   "cell_type": "markdown",
   "metadata": {},
   "source": [
    "In this example, we will use a proper sigmoid function that squashes the input values into\n",
    "the range [0, 1]. We do this by choosing $\\alpha = 2.5$ and $\\beta = 1.0$:"
   ]
  },
  {
   "cell_type": "code",
   "execution_count": 6,
   "metadata": {},
   "outputs": [],
   "source": [
    "mlp.setActivationFunction(cv2.ml.ANN_MLP_SIGMOID_SYM, 2.5, 1.0)"
   ]
  },
  {
   "cell_type": "markdown",
   "metadata": {},
   "source": [
    "If you are curious what this activation function looks like, we can take a short excursion\n",
    "with Matplotlib:"
   ]
  },
  {
   "cell_type": "code",
   "execution_count": 7,
   "metadata": {},
   "outputs": [],
   "source": [
    "import matplotlib.pyplot as plt\n",
    "%matplotlib inline\n",
    "plt.style.use('ggplot')"
   ]
  },
  {
   "cell_type": "code",
   "execution_count": 8,
   "metadata": {},
   "outputs": [
    {
     "data": {
      "text/plain": [
       "Text(0, 0.5, 'y')"
      ]
     },
     "execution_count": 8,
     "metadata": {},
     "output_type": "execute_result"
    },
    {
     "data": {
      "image/png": "[encoded data removed]",
      "text/plain": [
       "<Figure size 720x432 with 1 Axes>"
      ]
     },
     "metadata": {
      "needs_background": "light"
     },
     "output_type": "display_data"
    }
   ],
   "source": [
    "alpha = 2.5\n",
    "beta = 1.0\n",
    "x_sig = np.linspace(-1.0, 1.0, 100)\n",
    "y_sig = beta * (1.0 - np.exp(-alpha * x_sig))\n",
    "y_sig /= (1 + np.exp(-alpha * x_sig))\n",
    "plt.figure(figsize=(10, 6))\n",
    "plt.plot(x_sig, y_sig, linewidth=3)\n",
    "plt.xlabel('x')\n",
    "plt.ylabel('y')"
   ]
  },
  {
   "cell_type": "markdown",
   "metadata": {},
   "source": [
    "As mentioned in the preceding part, a training method can be set via\n",
    "mlp.setTrainMethod. The following methods are available:\n",
    "- `cv2.ml.ANN_MLP_BACKPROP`: This is the backpropagation algorithm we talked about previously. You can set additional scaling factors via `mlp.setBackpropMomentumScale` and `mlp.setBackpropWeightScale`.\n",
    "- `cv2.ml.ANN_MLP_RPROP`: This is the Rprop algorithm, which is short for resilient backpropagation. We won't have time to discuss this algorithm, but you can set additional parameters of this algorithm via `mlp.setRpropDW0`, `mlp.setRpropDWMax`, `mlp.setRpropDWMin`, `mlp.setRpropDWMinus`, and `mlp.setRpropDWPlus`.\n",
    "\n",
    "In this example, we will choose backpropagation:"
   ]
  },
  {
   "cell_type": "code",
   "execution_count": 9,
   "metadata": {},
   "outputs": [],
   "source": [
    "mlp.setTrainMethod(cv2.ml.ANN_MLP_BACKPROP)"
   ]
  },
  {
   "cell_type": "markdown",
   "metadata": {},
   "source": [
    "Lastly, we can specify the criteria that must be met for training to end via\n",
    "`mlp.setTermCriteria`. This works the same for every classifier in OpenCV and is closely\n",
    "tied to the underlying C++ functionality. We first tell OpenCV which criteria we are going to\n",
    "specify (for example, the maximum number of iterations). Then we specify the value for this\n",
    "criterion. All values must be delivered in a tuple."
   ]
  },
  {
   "cell_type": "code",
   "execution_count": 10,
   "metadata": {},
   "outputs": [],
   "source": [
    "term_mode = cv2.TERM_CRITERIA_MAX_ITER + cv2.TERM_CRITERIA_EPS\n",
    "term_max_iter = 300\n",
    "term_eps = 0.01\n",
    "mlp.setTermCriteria((term_mode, term_max_iter, term_eps))"
   ]
  },
  {
   "cell_type": "markdown",
   "metadata": {},
   "source": [
    "## Training and testing the MLP classifier\n",
    "\n",
    "This is the easy part. Training the MLP classifier is the same as with all other classifiers:"
   ]
  },
  {
   "cell_type": "code",
   "execution_count": 11,
   "metadata": {},
   "outputs": [
    {
     "data": {
      "text/plain": [
       "True"
      ]
     },
     "execution_count": 11,
     "metadata": {},
     "output_type": "execute_result"
    }
   ],
   "source": [
    "mlp.train(X, cv2.ml.ROW_SAMPLE, y)"
   ]
  },
  {
   "cell_type": "markdown",
   "metadata": {},
   "source": [
    "The same goes for predicting target labels:"
   ]
  },
  {
   "cell_type": "code",
   "execution_count": 12,
   "metadata": {},
   "outputs": [],
   "source": [
    "_, y_hat = mlp.predict(X)"
   ]
  },
  {
   "cell_type": "markdown",
   "metadata": {},
   "source": [
    "The easiest way to measure accuracy is by using scikit-learn's helper function:"
   ]
  },
  {
   "cell_type": "code",
   "execution_count": 13,
   "metadata": {},
   "outputs": [
    {
     "data": {
      "text/plain": [
       "0.8"
      ]
     },
     "execution_count": 13,
     "metadata": {},
     "output_type": "execute_result"
    }
   ],
   "source": [
    "from sklearn.metrics import accuracy_score\n",
    "accuracy_score(y_hat.round(), y)"
   ]
  },
  {
   "cell_type": "markdown",
   "metadata": {},
   "source": [
    "It looks like we were able to increase our performance from 81% with a single perceptron to\n",
    "84% with an MLP consisting of ten hidden-layer neurons and two output neurons. In order\n",
    "to see what changed, we can look at the decision boundary one more time:"
   ]
  },
  {
   "cell_type": "code",
   "execution_count": 14,
   "metadata": {},
   "outputs": [],
   "source": [
    "def plot_decision_boundary(classifier, X_test, y_test):\n",
    "    # create a mesh to plot in\n",
    "    h = 0.02  # step size in mesh\n",
    "    x_min, x_max = X_test[:, 0].min() - 1, X_test[:, 0].max() + 1\n",
    "    y_min, y_max = X_test[:, 1].min() - 1, X_test[:, 1].max() + 1\n",
    "    xx, yy = np.meshgrid(np.arange(x_min, x_max, h),\n",
    "                         np.arange(y_min, y_max, h))\n",
    "    \n",
    "    X_hypo = np.c_[xx.ravel().astype(np.float32),\n",
    "                   yy.ravel().astype(np.float32)]\n",
    "    _, zz = classifier.predict(X_hypo)\n",
    "    zz = np.argmax(zz, axis=1)\n",
    "    zz = zz.reshape(xx.shape)\n",
    "    \n",
    "    plt.contourf(xx, yy, zz, cmap=plt.cm.coolwarm, alpha=0.8)\n",
    "    plt.scatter(X_test[:, 0], X_test[:, 1], c=y_test, s=200)"
   ]
  },
  {
   "cell_type": "code",
   "execution_count": 15,
   "metadata": {},
   "outputs": [
    {
     "data": {
      "image/png": "[encoded data removed]",
      "text/plain": [
       "<Figure size 720x432 with 1 Axes>"
      ]
     },
     "metadata": {
      "needs_background": "light"
     },
     "output_type": "display_data"
    }
   ],
   "source": [
    "plt.figure(figsize=(10, 6))\n",
    "plot_decision_boundary(mlp, X, y_raw)"
   ]
  },
  {
   "cell_type": "markdown",
   "metadata": {},
   "source": [
    "And voila! The decision boundary is no longer a straight line. That being said, you might\n",
    "have expected a more drastic performance increase. But nobody said we have to stop here!\n",
    "\n",
    "There are at least two different things we can try from here on out:\n",
    "- We can add more neurons to the hidden layer. You can do this by replacing `n_hidden` on line 6 with a larger value and running the code again. Generally speaking, the more neurons you put in the network, the more powerful the MLP will be.\n",
    "- We can add more hidden layers. It turns out that this is where neural nets really get their power from.\n",
    "\n",
    "Hence, this is where I should tell you about deep learning."
   ]
  }
 ],
 "metadata": {
  "kernelspec": {
   "display_name": "Python 3",
   "language": "python",
   "name": "python3"
  },
  "language_info": {
   "codemirror_mode": {
    "name": "ipython",
    "version": 3
   },
   "file_extension": ".py",
   "mimetype": "text/x-python",
   "name": "python",
   "nbconvert_exporter": "python",
   "pygments_lexer": "ipython3",
   "version": "3.6.8"
  }
 },
 "nbformat": 4,
 "nbformat_minor": 1
}
